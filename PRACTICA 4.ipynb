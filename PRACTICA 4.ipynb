{
  "nbformat": 4,
  "nbformat_minor": 0,
  "metadata": {
    "colab": {
      "provenance": []
    },
    "kernelspec": {
      "name": "python3",
      "display_name": "Python 3"
    },
    "language_info": {
      "name": "python"
    }
  },
  "cells": [
    {
      "cell_type": "code",
      "execution_count": null,
      "metadata": {
        "id": "e18rge-2aX2w"
      },
      "outputs": [],
      "source": []
    },
    {
      "cell_type": "code",
      "source": [],
      "metadata": {
        "id": "PRuo5c_MaYpA"
      },
      "execution_count": null,
      "outputs": []
    },
    {
      "cell_type": "code",
      "source": [
        "import numpy as np\n",
        "\n",
        "# Crear dos matrices 3x3 con números aleatorios entre 1 y 10\n",
        "matriz1 = np.random.randint(1, 11, (3, 3))\n",
        "matriz2 = np.random.randint(1, 11, (3, 3))\n",
        "\n",
        "print(\"Matriz 1:\\n\", matriz1)\n",
        "print(\"Matriz 2:\\n\", matriz2)\n",
        "\n",
        "# Suma de ambas matrices\n",
        "suma = matriz1 + matriz2\n",
        "print(\"\\nSuma de las matrices:\\n\", suma)\n",
        "\n",
        "# Resta de la segunda matriz de la primera\n",
        "resta = matriz1 - matriz2\n",
        "print(\"\\nResta de la segunda matriz de la primera:\\n\", resta)\n",
        "\n",
        "# Multiplicación de la primera matriz por 2\n",
        "multiplicacion_escalar = matriz1 * 2\n",
        "print(\"\\nPrimera matriz multiplicada por 2:\\n\", multiplicacion_escalar)\n",
        "\n",
        "# Multiplicación matricial entre las dos matrices\n",
        "multiplicacion_matricial = np.dot(matriz1, matriz2)\n",
        "print(\"\\nMultiplicación matricial de las dos matrices:\\n\", multiplicacion_matricial)\n"
      ],
      "metadata": {
        "colab": {
          "base_uri": "https://localhost:8080/"
        },
        "id": "FAcvlqrAHvoc",
        "outputId": "82d23460-072d-400f-854f-89e01d7136c6"
      },
      "execution_count": 1,
      "outputs": [
        {
          "output_type": "stream",
          "name": "stdout",
          "text": [
            "Matriz 1:\n",
            " [[10  2  8]\n",
            " [ 3 10  3]\n",
            " [ 9  3  3]]\n",
            "Matriz 2:\n",
            " [[ 5  1  3]\n",
            " [ 6  4  6]\n",
            " [ 3  9 10]]\n",
            "\n",
            "Suma de las matrices:\n",
            " [[15  3 11]\n",
            " [ 9 14  9]\n",
            " [12 12 13]]\n",
            "\n",
            "Resta de la segunda matriz de la primera:\n",
            " [[ 5  1  5]\n",
            " [-3  6 -3]\n",
            " [ 6 -6 -7]]\n",
            "\n",
            "Primera matriz multiplicada por 2:\n",
            " [[20  4 16]\n",
            " [ 6 20  6]\n",
            " [18  6  6]]\n",
            "\n",
            "Multiplicación matricial de las dos matrices:\n",
            " [[ 86  90 122]\n",
            " [ 84  70  99]\n",
            " [ 72  48  75]]\n"
          ]
        }
      ]
    }
  ]
}