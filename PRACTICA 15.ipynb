{
  "nbformat": 4,
  "nbformat_minor": 0,
  "metadata": {
    "colab": {
      "provenance": []
    },
    "kernelspec": {
      "name": "python3",
      "display_name": "Python 3"
    },
    "language_info": {
      "name": "python"
    }
  },
  "cells": [
    {
      "cell_type": "code",
      "source": [
        "# Importar librerías necesarias\n",
        "import pandas as pd\n",
        "from datetime import timedelta\n",
        "\n",
        "# Montar Google Drive\n",
        "from google.colab import drive\n",
        "drive.mount('/content/drive')\n",
        "\n",
        "# Definir la ruta del archivo en Google Drive\n",
        "file_path = \"/content/drive/MyDrive/Airdata.csv\"\n",
        "\n",
        "# Cargar el archivo CSV\n",
        "df = pd.read_csv(file_path)\n",
        "\n",
        "# --- Ejercicio 01: Tipo de Datos Correcto ---\n",
        "# Convertir la columna 'DateTime' a tipo de datos datetime si no está en ese formato\n",
        "df['DateTime'] = pd.to_datetime(df['DateTime'], errors='coerce')  # Convertir a formato de fecha, manejando errores\n",
        "print(\"Ejercicio 01 - Tipo de Datos Correcto:\")\n",
        "print(df.dtypes)  # Mostrar tipos de datos\n",
        "print(df.head(3))  # Imprimir primeras tres filas para revisión\n",
        "\n",
        "# --- Ejercicio 02: Extraer componentes de fecha y tiempo ---\n",
        "# Extraer año, mes, día y hora de la columna 'DateTime' y crear nuevas columnas\n",
        "df['Year'] = df['DateTime'].dt.year\n",
        "df['Month'] = df['DateTime'].dt.month\n",
        "df['Day'] = df['DateTime'].dt.day\n",
        "df['Hour'] = df['DateTime'].dt.hour\n",
        "print(\"\\nEjercicio 02 - Componentes de fecha y hora extraídos:\")\n",
        "print(df.head(3))  # Mostrar los primeros registros con las nuevas columnas\n",
        "\n",
        "# --- Ejercicio 03: Aritmética - Suma de Intervalos ---\n",
        "# Sumar 10 días, 7 horas y 15 minutos a la columna 'DateTime' y guardar en una nueva columna\n",
        "df['DateTime_Modified'] = df['DateTime'] + timedelta(days=10, hours=7, minutes=15)\n",
        "print(\"\\nEjercicio 03 - Aritmética - Suma de Intervalos:\")\n",
        "print(df[['DateTime', 'DateTime_Modified']].head(3))  # Imprimir comparación de fechas\n",
        "\n",
        "# --- Ejercicio 04: Timestamp ---\n",
        "# Convertir la columna 'DateTime' a Unix timestamp\n",
        "df['Timestamp'] = df['DateTime'].view('int64') // 10**9  # Convertir a Unix timestamp de forma segura\n",
        "print(\"\\nEjercicio 04 - Conversion de DateTime a Timestamp Unix:\")\n",
        "print(df[['DateTime', 'Timestamp']].head(3))  # Mostrar primeras tres filas\n",
        "\n",
        "# --- Ejercicio 05: Filtrado de Fechas ---\n",
        "# Filtrar las fechas que son mayores a 2020-11-01\n",
        "df_filtered = df[df['DateTime'] > '2020-11-01']\n",
        "print(\"\\nEjercicio 05 - Filtrado de Fechas:\")\n",
        "print(df_filtered.head())  # Imprimir primeras filas de los registros filtrados\n"
      ],
      "metadata": {
        "colab": {
          "base_uri": "https://localhost:8080/"
        },
        "id": "TTnXxObiAyri",
        "outputId": "7794c77d-d2ad-43b8-ba14-0996d38f1225"
      },
      "execution_count": 9,
      "outputs": [
        {
          "output_type": "stream",
          "name": "stdout",
          "text": [
            "Drive already mounted at /content/drive; to attempt to forcibly remount, call drive.mount(\"/content/drive\", force_remount=True).\n",
            "Ejercicio 01 - Tipo de Datos Correcto:\n",
            "DateTime          datetime64[ns]\n",
            "Temperature              float64\n",
            "Humidity                   int64\n",
            "Wind_Speed               float64\n",
            "Wind_Direction           float64\n",
            "NO2_Location_A           float64\n",
            "NO2_Location_B           float64\n",
            "NO2_Location_C           float64\n",
            "dtype: object\n",
            "             DateTime  Temperature  Humidity  Wind_Speed  Wind_Direction  \\\n",
            "0 2020-01-01 00:00:00     2.180529        87    1.484318        75.96376   \n",
            "1 2020-01-01 01:00:00     1.490529        89    2.741678       113.19859   \n",
            "2 2020-01-01 02:00:00     1.690529        85    3.563818       135.00000   \n",
            "\n",
            "   NO2_Location_A  NO2_Location_B  NO2_Location_C  \n",
            "0           39.23           52.88           62.37  \n",
            "1           38.30           44.95           52.53  \n",
            "2             NaN           48.40           54.80  \n",
            "\n",
            "Ejercicio 02 - Componentes de fecha y hora extraídos:\n",
            "             DateTime  Temperature  Humidity  Wind_Speed  Wind_Direction  \\\n",
            "0 2020-01-01 00:00:00     2.180529        87    1.484318        75.96376   \n",
            "1 2020-01-01 01:00:00     1.490529        89    2.741678       113.19859   \n",
            "2 2020-01-01 02:00:00     1.690529        85    3.563818       135.00000   \n",
            "\n",
            "   NO2_Location_A  NO2_Location_B  NO2_Location_C  Year  Month  Day  Hour  \n",
            "0           39.23           52.88           62.37  2020      1    1     0  \n",
            "1           38.30           44.95           52.53  2020      1    1     1  \n",
            "2             NaN           48.40           54.80  2020      1    1     2  \n",
            "\n",
            "Ejercicio 03 - Aritmética - Suma de Intervalos:\n",
            "             DateTime   DateTime_Modified\n",
            "0 2020-01-01 00:00:00 2020-01-11 07:15:00\n",
            "1 2020-01-01 01:00:00 2020-01-11 08:15:00\n",
            "2 2020-01-01 02:00:00 2020-01-11 09:15:00\n",
            "\n",
            "Ejercicio 04 - Conversion de DateTime a Timestamp Unix:\n",
            "             DateTime   Timestamp\n",
            "0 2020-01-01 00:00:00  1577836800\n",
            "1 2020-01-01 01:00:00  1577840400\n",
            "2 2020-01-01 02:00:00  1577844000\n",
            "\n",
            "Ejercicio 05 - Filtrado de Fechas:\n",
            "                DateTime  Temperature  Humidity  Wind_Speed  Wind_Direction  \\\n",
            "7321 2020-11-01 01:00:00    13.620529        58    6.638072       130.60129   \n",
            "7322 2020-11-01 02:00:00    13.980529        40    6.618519       157.61987   \n",
            "7323 2020-11-01 03:00:00    13.010529        43    8.209263       164.74487   \n",
            "7324 2020-11-01 04:00:00    12.190529        51    7.568566       154.65382   \n",
            "7325 2020-11-01 05:00:00    12.510529        59    7.594208       148.57043   \n",
            "\n",
            "      NO2_Location_A  NO2_Location_B  NO2_Location_C  Year  Month  Day  Hour  \\\n",
            "7321           17.50           23.88           44.07  2020     11    1     1   \n",
            "7322           13.38           18.92           35.80  2020     11    1     2   \n",
            "7323           11.95           13.95           30.15  2020     11    1     3   \n",
            "7324           10.10           14.35           31.45  2020     11    1     4   \n",
            "7325           10.30           14.42           32.55  2020     11    1     5   \n",
            "\n",
            "       DateTime_Modified   Timestamp  \n",
            "7321 2020-11-11 08:15:00  1604192400  \n",
            "7322 2020-11-11 09:15:00  1604196000  \n",
            "7323 2020-11-11 10:15:00  1604199600  \n",
            "7324 2020-11-11 11:15:00  1604203200  \n",
            "7325 2020-11-11 12:15:00  1604206800  \n"
          ]
        },
        {
          "output_type": "stream",
          "name": "stderr",
          "text": [
            "<ipython-input-9-735fd2b39244>:39: FutureWarning: Series.view is deprecated and will be removed in a future version. Use ``astype`` as an alternative to change the dtype.\n",
            "  df['Timestamp'] = df['DateTime'].view('int64') // 10**9  # Convertir a Unix timestamp de forma segura\n"
          ]
        }
      ]
    }
  ]
}