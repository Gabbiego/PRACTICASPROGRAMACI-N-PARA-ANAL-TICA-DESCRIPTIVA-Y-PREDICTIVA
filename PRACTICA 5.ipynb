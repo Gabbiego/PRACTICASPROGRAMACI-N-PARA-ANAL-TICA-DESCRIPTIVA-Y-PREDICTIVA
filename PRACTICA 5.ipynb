{
  "nbformat": 4,
  "nbformat_minor": 0,
  "metadata": {
    "colab": {
      "provenance": []
    },
    "kernelspec": {
      "name": "python3",
      "display_name": "Python 3"
    },
    "language_info": {
      "name": "python"
    }
  },
  "cells": [
    {
      "cell_type": "code",
      "execution_count": null,
      "metadata": {
        "id": "cCV8LLw-bLXA"
      },
      "outputs": [],
      "source": []
    },
    {
      "cell_type": "code",
      "source": [],
      "metadata": {
        "id": "8xeZ1AYobL44"
      },
      "execution_count": null,
      "outputs": []
    },
    {
      "cell_type": "code",
      "source": [
        "import numpy as np\n",
        "\n",
        "# Crear un arreglo unidimensional con 15 números aleatorios entre 1 y 50\n",
        "arr = np.random.randint(1, 51, 15)\n",
        "print(\"Arreglo original:\\n\", arr)\n",
        "\n",
        "# Seleccionar elementos mayores que 25 usando una máscara booleana\n",
        "mascara = arr > 25\n",
        "print(\"\\nElementos mayores que 25:\\n\", arr[mascara])\n",
        "\n",
        "# Contar cuántos elementos son mayores que 25\n",
        "cantidad_mayores_25 = np.sum(mascara)\n",
        "print(\"\\nCantidad de elementos mayores que 25:\", cantidad_mayores_25)\n"
      ],
      "metadata": {
        "id": "dKHbBu-4Ifvz"
      },
      "execution_count": null,
      "outputs": []
    }
  ]
}