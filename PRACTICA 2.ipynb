{
  "nbformat": 4,
  "nbformat_minor": 0,
  "metadata": {
    "colab": {
      "provenance": []
    },
    "kernelspec": {
      "name": "python3",
      "display_name": "Python 3"
    },
    "language_info": {
      "name": "python"
    }
  },
  "cells": [
    {
      "cell_type": "code",
      "source": [
        "import os\n",
        "import re\n",
        "\n",
        "# Ruta del archivo en Google Colab o entorno local\n",
        "def obtener_ruta_archivo():\n",
        "    ruta = \"/content/informe_acciones.txt\"\n",
        "    if not os.path.exists(ruta):\n",
        "        from google.colab import files\n",
        "        print(\"El archivo no fue encontrado. Sube 'informe_acciones.txt'.\")\n",
        "        uploaded = files.upload()\n",
        "        if \"informe_acciones.txt\" in uploaded:\n",
        "            return \"informe_acciones.txt\"\n",
        "        else:\n",
        "            raise FileNotFoundError(\"No se encontró el archivo después de la carga.\")\n",
        "    return ruta\n",
        "\n",
        "filename = obtener_ruta_archivo()\n",
        "\n",
        "# Leer el archivo y extraer datos clave\n",
        "try:\n",
        "    with open(filename, \"r\", encoding=\"ISO-8859-1\") as file:\n",
        "        contenido = file.read()\n",
        "\n",
        "    # Buscar la fecha del informe\n",
        "    fecha_match = re.search(r\"Fecha:\\s*(\\d{4}-\\d{2}-\\d{2} \\d{2}:\\d{2}:\\d{2})\", contenido)\n",
        "    fecha = fecha_match.group(1) if fecha_match else \"Fecha no encontrada\"\n",
        "\n",
        "    # Buscar el valor actual de la acción\n",
        "    valor_match = re.search(r\"Valor actual:\\s*\\$(\\d+\\.\\d{2})\", contenido)\n",
        "    valor = valor_match.group(1) if valor_match else \"Valor no encontrado\"\n",
        "\n",
        "    print(\"Fecha del informe:\", fecha)\n",
        "    print(\"Valor actual de la acción:\", valor)\n",
        "\n",
        "except Exception as e:\n",
        "    print(\"Error:\", str(e))\n"
      ],
      "metadata": {
        "colab": {
          "base_uri": "https://localhost:8080/"
        },
        "id": "-sFmRIeP92aj",
        "outputId": "c11ff483-cc78-4618-c540-d6b78c006e1e"
      },
      "execution_count": 30,
      "outputs": [
        {
          "output_type": "stream",
          "name": "stdout",
          "text": [
            "Fecha del informe: 2024-09-02 12:34:26\n",
            "Valor actual de la acción: 446.52\n"
          ]
        }
      ]
    }
  ]
}