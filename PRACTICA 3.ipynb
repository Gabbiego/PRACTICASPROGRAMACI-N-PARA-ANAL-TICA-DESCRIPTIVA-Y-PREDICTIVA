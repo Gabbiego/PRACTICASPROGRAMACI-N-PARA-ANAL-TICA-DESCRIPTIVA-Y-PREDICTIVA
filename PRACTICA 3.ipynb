{
  "nbformat": 4,
  "nbformat_minor": 0,
  "metadata": {
    "colab": {
      "provenance": []
    },
    "kernelspec": {
      "name": "python3",
      "display_name": "Python 3"
    },
    "language_info": {
      "name": "python"
    }
  },
  "cells": [
    {
      "cell_type": "code",
      "source": [],
      "metadata": {
        "id": "EsHkiECoZpk8"
      },
      "execution_count": null,
      "outputs": []
    },
    {
      "cell_type": "code",
      "source": [
        "# Practica #3. Creación de un arreglo y operaciones básicas\n",
        "\n",
        "import numpy as np\n",
        "\n",
        "# Crear un arreglo unidimensional de 20 elementos con valores aleatorios entre 1 y 100\n",
        "arr = np.random.randint(1, 101, 20)\n",
        "print(\"Arreglo:\", arr)\n",
        "\n",
        "# Valor máximo del arreglo\n",
        "maximo = np.max(arr)\n",
        "print(\"Máximo:\", maximo)\n",
        "\n",
        "# Valor mínimo del arreglo\n",
        "minimo = np.min(arr)\n",
        "print(\"Mínimo:\", minimo)\n",
        "\n",
        "# Media del arreglo\n",
        "media = np.mean(arr)\n",
        "print(\"Media:\", media)\n",
        "\n",
        "# Sumar 10 a cada elemento del arreglo\n",
        "arr_mas_10 = arr + 10\n",
        "print(\"Arreglo +10:\", arr_mas_10)\n"
      ],
      "metadata": {
        "colab": {
          "base_uri": "https://localhost:8080/"
        },
        "id": "ru9f1V26DzIj",
        "outputId": "ed2abe17-a880-4a6f-88ea-f485c4e58059"
      },
      "execution_count": 2,
      "outputs": [
        {
          "output_type": "stream",
          "name": "stdout",
          "text": [
            "Arreglo: [91 85 97 27 98 95  9 38 41 79 46 86 33 80 16 77 31 14 80 57]\n",
            "Máximo: 98\n",
            "Mínimo: 9\n",
            "Media: 59.0\n",
            "Arreglo +10: [101  95 107  37 108 105  19  48  51  89  56  96  43  90  26  87  41  24\n",
            "  90  67]\n"
          ]
        }
      ]
    }
  ]
}